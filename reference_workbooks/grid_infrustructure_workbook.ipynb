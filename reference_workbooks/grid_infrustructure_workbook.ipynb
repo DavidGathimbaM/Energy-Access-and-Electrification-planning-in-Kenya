{
 "cells": [
  {
   "cell_type": "code",
   "execution_count": 2,
   "metadata": {},
   "outputs": [],
   "source": [
    "import pandas as pandas\n",
    "import geopandas as gpd\n",
    "import rasterio"
   ]
  },
  {
   "cell_type": "code",
   "execution_count": 4,
   "metadata": {},
   "outputs": [
    {
     "name": "stdout",
     "output_type": "stream",
     "text": [
      "Metadata: {'driver': 'GTiff', 'dtype': 'uint8', 'nodata': 0.0, 'width': 24527, 'height': 8674, 'count': 1, 'crs': CRS.from_epsg(4326), 'transform': Affine(0.009999999999999998, 0.0, -89.335692917,\n",
      "       0.0, -0.01, 51.90425168)}\n",
      "Dimensions (Height x Width): 8674 x 24527\n",
      "Number of Bands: 1\n",
      "Coordinate Reference System (CRS): EPSG:4326\n",
      "Affine Transformation: | 0.01, 0.00,-89.34|\n",
      "| 0.00,-0.01, 51.90|\n",
      "| 0.00, 0.00, 1.00|\n",
      "Sample Pixel Values (Top-left corner):\n",
      " [[0 0 0 0 0]\n",
      " [0 0 0 0 0]\n",
      " [0 0 0 0 0]\n",
      " [0 0 0 0 0]\n",
      " [0 0 0 0 0]]\n"
     ]
    }
   ],
   "source": [
    "import rasterio\n",
    "\n",
    "# Open the TIFF file\n",
    "with rasterio.open(r'C:\\Users\\pc\\Downloads\\Energy_Access_&_Electrification_Planning_in_Africa\\grid_infrustructure\\global_1_1_1_1_1_0.tif') as src:\n",
    "    # Print metadata\n",
    "    print(\"Metadata:\", src.meta)\n",
    "    \n",
    "    # Print dimensions (height and width) and number of bands\n",
    "    print(\"Dimensions (Height x Width):\", src.height, \"x\", src.width)\n",
    "    print(\"Number of Bands:\", src.count)\n",
    "    \n",
    "    # Print coordinate reference system (CRS)\n",
    "    print(\"Coordinate Reference System (CRS):\", src.crs)\n",
    "    \n",
    "    # Print affine transformation (mapping coordinates to array indices)\n",
    "    print(\"Affine Transformation:\", src.transform)\n",
    "\n",
    "    # Read the first band and print a portion of pixel values as an example\n",
    "    band1 = src.read(1)  # Read the first band\n",
    "    print(\"Sample Pixel Values (Top-left corner):\\n\", band1[:5, :5])\n"
   ]
  },
  {
   "cell_type": "code",
   "execution_count": 6,
   "metadata": {},
   "outputs": [
    {
     "data": {
      "image/png": "[encoded data removed]",
      "text/plain": [
       "<Figure size 1000x1000 with 1 Axes>"
      ]
     },
     "metadata": {},
     "output_type": "display_data"
    }
   ],
   "source": [
    "import geopandas as gpd\n",
    "import rasterio\n",
    "from rasterio.plot import show\n",
    "import matplotlib.pyplot as plt\n",
    "\n",
    "# Open the .tif raster file\n",
    "with rasterio.open(r'C:\\Users\\pc\\Downloads\\Energy_Access_&_Electrification_Planning_in_Africa\\grid_infrustructure\\global_1_1_1_1_1_0.tif') as src:\n",
    "    fig, ax = plt.subplots(figsize=(10, 10))\n",
    "    \n",
    "    # Plot the raster data\n",
    "    show(src, ax=ax, title=\"Grid Infrustructure Map\")\n",
    "\n",
    "plt.show()\n"
   ]
  },
  {
   "cell_type": "code",
   "execution_count": 7,
   "metadata": {},
   "outputs": [
    {
     "name": "stdout",
     "output_type": "stream",
     "text": [
      "Data saved to grid_infrastructure_data.csv\n"
     ]
    }
   ],
   "source": [
    "import rasterio\n",
    "import pandas as pd\n",
    "from rasterio.transform import rowcol\n",
    "\n",
    "# Path to the TIFF file\n",
    "tiff_path = r'C:\\Users\\pc\\Downloads\\Energy_Access_&_Electrification_Planning_in_Africa\\grid_infrustructure\\global_1_1_1_1_1_0.tif'\n",
    "\n",
    "# Open the TIFF file\n",
    "with rasterio.open(tiff_path) as src:\n",
    "    # Read the grid values (first band) into an array\n",
    "    grid_array = src.read(1)  # Reading the first band, assuming it contains the grid data\n",
    "    transform = src.transform  # Affine transform to map pixels to coordinates\n",
    "    width, height = src.width, src.height  # Dimensions of the array\n",
    "\n",
    "    # Prepare lists to store the results\n",
    "    latitudes = []\n",
    "    longitudes = []\n",
    "    grid_values = []\n",
    "\n",
    "    # Loop through each pixel to get its coordinate and value\n",
    "    for row in range(height):\n",
    "        for col in range(width):\n",
    "            # Get the grid value at the current pixel\n",
    "            grid_value = grid_array[row, col]\n",
    "\n",
    "            # Ignore nodata values (optional)\n",
    "            if grid_value == src.nodata:\n",
    "                continue\n",
    "\n",
    "            # Convert row, col to latitude, longitude\n",
    "            lon, lat = rasterio.transform.xy(transform, row, col, offset='center')\n",
    "\n",
    "            # Append to lists\n",
    "            latitudes.append(lat)\n",
    "            longitudes.append(lon)\n",
    "            grid_values.append(grid_value)\n",
    "\n",
    "# Create a DataFrame\n",
    "grid_df = pd.DataFrame({\n",
    "    \"Latitude\": latitudes,\n",
    "    \"Longitude\": longitudes,\n",
    "    \"GridValue\": grid_values\n",
    "})\n",
    "\n",
    "# Save to CSV\n",
    "csv_path = \"grid_infrastructure_data.csv\"\n",
    "grid_df.to_csv(csv_path, index=False)\n",
    "\n",
    "print(f\"Data saved to {csv_path}\")\n"
   ]
  },
  {
   "cell_type": "code",
   "execution_count": 8,
   "metadata": {},
   "outputs": [
    {
     "data": {
      "text/html": [
       "<div>\n",
       "<style scoped>\n",
       "    .dataframe tbody tr th:only-of-type {\n",
       "        vertical-align: middle;\n",
       "    }\n",
       "\n",
       "    .dataframe tbody tr th {\n",
       "        vertical-align: top;\n",
       "    }\n",
       "\n",
       "    .dataframe thead th {\n",
       "        text-align: right;\n",
       "    }\n",
       "</style>\n",
       "<table border=\"1\" class=\"dataframe\">\n",
       "  <thead>\n",
       "    <tr style=\"text-align: right;\">\n",
       "      <th></th>\n",
       "      <th>Latitude</th>\n",
       "      <th>Longitude</th>\n",
       "      <th>GridValue</th>\n",
       "    </tr>\n",
       "  </thead>\n",
       "  <tbody>\n",
       "    <tr>\n",
       "      <th>0</th>\n",
       "      <td>51.899252</td>\n",
       "      <td>99.259307</td>\n",
       "      <td>7</td>\n",
       "    </tr>\n",
       "    <tr>\n",
       "      <th>1</th>\n",
       "      <td>51.689252</td>\n",
       "      <td>99.309307</td>\n",
       "      <td>3</td>\n",
       "    </tr>\n",
       "    <tr>\n",
       "      <th>2</th>\n",
       "      <td>51.669252</td>\n",
       "      <td>99.319307</td>\n",
       "      <td>5</td>\n",
       "    </tr>\n",
       "    <tr>\n",
       "      <th>3</th>\n",
       "      <td>51.659252</td>\n",
       "      <td>100.529307</td>\n",
       "      <td>3</td>\n",
       "    </tr>\n",
       "    <tr>\n",
       "      <th>4</th>\n",
       "      <td>51.639252</td>\n",
       "      <td>100.859307</td>\n",
       "      <td>5</td>\n",
       "    </tr>\n",
       "    <tr>\n",
       "      <th>...</th>\n",
       "      <td>...</td>\n",
       "      <td>...</td>\n",
       "      <td>...</td>\n",
       "    </tr>\n",
       "    <tr>\n",
       "      <th>4235274</th>\n",
       "      <td>-34.820748</td>\n",
       "      <td>20.059307</td>\n",
       "      <td>98</td>\n",
       "    </tr>\n",
       "    <tr>\n",
       "      <th>4235275</th>\n",
       "      <td>-34.830748</td>\n",
       "      <td>19.999307</td>\n",
       "      <td>1</td>\n",
       "    </tr>\n",
       "    <tr>\n",
       "      <th>4235276</th>\n",
       "      <td>-34.830748</td>\n",
       "      <td>20.009307</td>\n",
       "      <td>1</td>\n",
       "    </tr>\n",
       "    <tr>\n",
       "      <th>4235277</th>\n",
       "      <td>-34.830748</td>\n",
       "      <td>20.019307</td>\n",
       "      <td>1</td>\n",
       "    </tr>\n",
       "    <tr>\n",
       "      <th>4235278</th>\n",
       "      <td>-34.830748</td>\n",
       "      <td>20.029307</td>\n",
       "      <td>1</td>\n",
       "    </tr>\n",
       "  </tbody>\n",
       "</table>\n",
       "<p>4235279 rows × 3 columns</p>\n",
       "</div>"
      ],
      "text/plain": [
       "          Latitude   Longitude  GridValue\n",
       "0        51.899252   99.259307          7\n",
       "1        51.689252   99.309307          3\n",
       "2        51.669252   99.319307          5\n",
       "3        51.659252  100.529307          3\n",
       "4        51.639252  100.859307          5\n",
       "...            ...         ...        ...\n",
       "4235274 -34.820748   20.059307         98\n",
       "4235275 -34.830748   19.999307          1\n",
       "4235276 -34.830748   20.009307          1\n",
       "4235277 -34.830748   20.019307          1\n",
       "4235278 -34.830748   20.029307          1\n",
       "\n",
       "[4235279 rows x 3 columns]"
      ]
     },
     "execution_count": 8,
     "metadata": {},
     "output_type": "execute_result"
    }
   ],
   "source": [
    "grid_df"
   ]
  },
  {
   "cell_type": "code",
   "execution_count": null,
   "metadata": {},
   "outputs": [],
   "source": []
  }
 ],
 "metadata": {
  "kernelspec": {
   "display_name": "base",
   "language": "python",
   "name": "python3"
  },
  "language_info": {
   "codemirror_mode": {
    "name": "ipython",
    "version": 3
   },
   "file_extension": ".py",
   "mimetype": "text/x-python",
   "name": "python",
   "nbconvert_exporter": "python",
   "pygments_lexer": "ipython3",
   "version": "3.11.7"
  }
 },
 "nbformat": 4,
 "nbformat_minor": 2
}
