{
 "cells": [
  {
   "cell_type": "markdown",
   "metadata": {},
   "source": [
    "### **Importing Relevant Libraries**"
   ]
  },
  {
   "cell_type": "code",
   "execution_count": 1,
   "metadata": {},
   "outputs": [],
   "source": [
    "import pandas as pd\n",
    "import numpy as np\n",
    "import matplotlib.pyplot as plt\n",
    "import seaborn as sns\n",
    "\n",
    "%matplotlib inline\n",
    "\n",
    "import geopandas as gpd #powerful Python library built on top of Pandas designed to make working with geospatial data in Python easier\n",
    "import rasterio as rio #for reading and writing geospatial raster data, specifically designed to work with formats such as GeoTIFF.\n",
    "\n",
    "import pyogrio as pyg #Python library designed to handle geospatial data input/output operations. \n",
    "import fiona #Python library designed for reading and writing geospatial data in a variety of formats, particularly vector data formats like shapefiles, GeoJSON, and others\n",
    "\n",
    "from geopandas import GeoDataFrame\n",
    "from shapely.geometry import LineString, Point\n",
    "\n",
    "import io\n",
    "\n",
    "import shapely"
   ]
  },
  {
   "cell_type": "markdown",
   "metadata": {},
   "source": [
    "### **Data Extraction & Visualization.**"
   ]
  }
 ],
 "metadata": {
  "kernelspec": {
   "display_name": "learn-env",
   "language": "python",
   "name": "python3"
  },
  "language_info": {
   "codemirror_mode": {
    "name": "ipython",
    "version": 3
   },
   "file_extension": ".py",
   "mimetype": "text/x-python",
   "name": "python",
   "nbconvert_exporter": "python",
   "pygments_lexer": "ipython3",
   "version": "3.8.5"
  }
 },
 "nbformat": 4,
 "nbformat_minor": 2
}
